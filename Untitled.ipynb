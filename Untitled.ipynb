{
 "cells": [
  {
   "cell_type": "code",
   "execution_count": 1,
   "id": "4c6c3d3f-759f-41d7-a94b-6f7d8227df27",
   "metadata": {},
   "outputs": [
    {
     "name": "stdout",
     "output_type": "stream",
     "text": [
      "Requirement already satisfied: openpyxl in c:\\users\\miras\\anaconda3\\lib\\site-packages (3.0.10)\n",
      "Requirement already satisfied: et_xmlfile in c:\\users\\miras\\anaconda3\\lib\\site-packages (from openpyxl) (1.1.0)\n"
     ]
    }
   ],
   "source": [
    "!pip install openpyxl\n"
   ]
  },
  {
   "cell_type": "code",
   "execution_count": 33,
   "id": "5a9b1447-f9ea-4d8a-b85b-5f177ebfe0e8",
   "metadata": {},
   "outputs": [
    {
     "name": "stdout",
     "output_type": "stream",
     "text": [
      "{'AAA Company': 43, 'BBB Company': 17, 'CCC Company': 14}\n",
      "{'AAA Company': 10969059.95, 'BBB Company': 2375499.47, 'CCC Company': 8114363.62}\n"
     ]
    }
   ],
   "source": [
    "import openpyxl\n",
    "\n",
    "\n",
    "inv_file = openpyxl.load_workbook(\"inventory.xlsx\")\n",
    "product_list = inv_file[\"Sheet1\"]\n",
    "\n",
    "product_per_supplier = {}\n",
    "total_value_per_supplier = {}\n",
    "\n",
    "for product_row in range(2, product_list.max_row + 1):\n",
    "    supplier_name = product_list.cell(product_row, 4).value\n",
    "    inventory = product_list.cell(product_row, 2).value\n",
    "    price = product_list.cell(product_row, 3).value\n",
    "    inventory_price = product_list.cell(product_row, 5)\n",
    "    \n",
    "\n",
    "    #calculate number of products per supplier\n",
    "    if supplier_name in product_per_supplier:\n",
    "        current_num_products = product_per_supplier.get(supplier_name)\n",
    "        product_per_supplier[supplier_name] = current_num_products + 1\n",
    "    else:\n",
    "        product_per_supplier[supplier_name] = 1\n",
    "\n",
    "    #calculate total value of inventory per supplier\n",
    "    if supplier_name in total_value_per_supplier:\n",
    "        current_total_value = total_value_per_supplier.get(supplier_name)\n",
    "        total_value_per_supplier[supplier_name] = current_total_value + inventory * price\n",
    "    else:\n",
    "        total_value_per_supplier[supplier_name] = inventory * price\n",
    "\n",
    "\n",
    "    #add value for total inventory price (by creating a new column in our spreadsheet)\n",
    "    inventory_price.value = inventory * price\n",
    "\n",
    "print(product_per_supplier)\n",
    "print(total_value_per_supplier)\n",
    "\n",
    "inv_file.save(\"inventory_updated.xlsx\")\n"
   ]
  },
  {
   "cell_type": "code",
   "execution_count": null,
   "id": "fa61153f-b72f-4188-9451-bd09276f7164",
   "metadata": {},
   "outputs": [],
   "source": []
  }
 ],
 "metadata": {
  "kernelspec": {
   "display_name": "Python 3 (ipykernel)",
   "language": "python",
   "name": "python3"
  },
  "language_info": {
   "codemirror_mode": {
    "name": "ipython",
    "version": 3
   },
   "file_extension": ".py",
   "mimetype": "text/x-python",
   "name": "python",
   "nbconvert_exporter": "python",
   "pygments_lexer": "ipython3",
   "version": "3.11.7"
  }
 },
 "nbformat": 4,
 "nbformat_minor": 5
}
